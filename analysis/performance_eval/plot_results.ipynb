{
 "cells": [
  {
   "cell_type": "code",
   "execution_count": 61,
   "metadata": {
    "collapsed": false
   },
   "outputs": [],
   "source": [
    "%matplotlib inline\n",
    "import json\n",
    "import matplotlib\n",
    "import numpy\n",
    "import fnmatch\n",
    "import os\n",
    "import numpy as np\n",
    "import matplotlib.pyplot as plt\n",
    "import pylab as pl\n",
    "from matplotlib.ticker import MaxNLocator\n",
    "matplotlib.rc('text', usetex=False)\n",
    "matplotlib.use('Agg')\n",
    "# matplotlib.rcParams['pdf.fonttype'] = 42\n",
    "# matplotlib.rcParams['ps.fonttype'] = 42\n",
    "matplotlib.rcParams['figure.figsize']= [3.125, 1.93]\n",
    "# matplotlib.rcParams['text.usetex'] = True\n",
    "matplotlib.rcParams['font.family']= 'serif'\n",
    "# matplotlib.rcParams['font.sans-serif']='Times'\n",
    "matplotlib.rcParams['font.size']= 8\n",
    "# matplotlib.rcParams['figure.figsize']= [3.125, 1.93]  # Golden ratio\n",
    "# matplotlib.rcParams['figure.figsize']= [3.125, 1.56]  # Golden ratio\n",
    "# figure.figsize: 3.125, 1.56  # Squash for more space\n",
    "# matplotlib.rcParams['legend.fontsize']= 6\n",
    "# matplotlib.rcParams['legend.fancybox']= True\n",
    "# matplotlib.rcParams['axes.linewidth']= 0.5\n",
    "\n",
    "# matplotlib.rcParams['patch.linewidth']= 0.5\n",
    "# matplotlib.rcParams['lines.linewidth']= 2\n",
    "# matplotlib.rcParams['grid.linewidth']= 0.1\n",
    "# matplotlib.rcParams['xtick.major.width']= 0.25\n",
    "# matplotlib.rcParams['xtick.minor.width']= 0.25\n",
    "# matplotlib.rcParams['ytick.major.width']= 0.25\n",
    "# matplotlib.rcParams['ytick.minor.width']= 0.25\n",
    "# matplotlib.rcParams['legend.numpoints']= 1\n",
    "\n",
    "import pickle\n",
    "color_n=['k','r','b','g','m','k','w']\n",
    "markers=['o','*','^','s','d','3','d','o','*','^','1','4']\n",
    "linestyles=[ '-',':','--','-.','--',':','-','-.', '--',':']"
   ]
  },
  {
   "cell_type": "code",
   "execution_count": 62,
   "metadata": {
    "collapsed": true
   },
   "outputs": [],
   "source": [
    "data = {1: {0: {2: 572040.0, 3: 77.0, 4: 479.0, 6: 77.0},\n",
    "               1: {2: 47937.0, 3: 4.0, 4: 77.0, 6: 4.0},\n",
    "               2: {2: 56695698.0, 3: 1318314.0, 4: 7323.0, 6: 2139.0},\n",
    "               3: {2: 56695698.0, 3: 1235586.0, 4: 348.0, 6: 107.0},\n",
    "               4: {2: 7972178.0, 3: 133.0, 4: 1537.0, 6: 133.0}},\n",
    "           2: {0: {2: 619977.0, 3: 81.0, 4: 556.0, 6: 81.0},\n",
    "               1: {2: 57267738.0, 3: 1318391.0, 4: 7802.0, 6: 2216.0},\n",
    "               2: {2: 57267738.0, 3: 1235663.0, 4: 827.0, 6: 185.0},\n",
    "               3: {2: 8544218.0, 3: 210.0, 4: 2016.0, 6: 210.0},\n",
    "               4: {2: 56743635.0, 3: 1318318.0, 4: 7400.0, 6: 2143.0},\n",
    "               5: {2: 56743635.0, 3: 1235590.0, 4: 425.0, 6: 112.0},\n",
    "               6: {2: 8020115.0, 3: 137.0, 4: 1614.0, 6: 137.0},\n",
    "               7: {2: 113391396.0, 3: 2553900.0, 4: 7671.0, 6: 2246.0},\n",
    "               8: {2: 64667876.0, 3: 1318447.0, 4: 8860.0, 6: 2272.0},\n",
    "               9: {2: 64667876.0, 3: 1235719.0, 4: 1885.0, 6: 240.0}},\n",
    "           3: {0: {2: 57315675.0, 3: 1318395.0, 4: 7879.0, 6: 2220.0},\n",
    "               1: {2: 57315675.0, 3: 1235667.0, 4: 904.0, 6: 188.0},\n",
    "               2: {2: 8592155.0, 3: 214.0, 4: 2093.0, 6: 214.0},\n",
    "               3: {2: 113963436.0, 3: 2553977.0, 4: 8150.0, 6: 2323.0},\n",
    "               4: {2: 65239916.0, 3: 1318524.0, 4: 9339.0, 6: 2349.0},\n",
    "               5: {2: 65239916.0, 3: 1235796.0, 4: 2364.0, 6: 318.0},\n",
    "               6: {2: 113439333.0, 3: 2553904.0, 4: 7748.0, 6: 2250.0},\n",
    "               7: {2: 64715813.0, 3: 1318451.0, 4: 8937.0, 6: 2276.0},\n",
    "               8: {2: 121363574.0, 3: 2554033.0, 4: 9208.0, 6: 2380.0}},\n",
    "           4: {0: {2: 114011373.0, 3: 2553981.0, 4: 314220.0, 6: 2327.0},\n",
    "               1: {2: 65287853.0, 3: 1318528.0, 4: 12575.0, 6: 2353.0},\n",
    "               2: {2: 65287853.0, 3: 1235800.0, 4: 5600.0, 6: 322.0},\n",
    "               3: {2: 121935614.0, 3: 2554110.0, 4: 1290998.0, 6: 2470.0},\n",
    "               4: {2: 121411511.0, 3: 2554037.0, 4: 149950.0, 6: 2383.0}},\n",
    "           5: {0: {2: 121983551.0, 3: 2554114.0, 4: 1274557.0, 6: 2610.0}}\n",
    "           }"
   ]
  },
  {
   "cell_type": "code",
   "execution_count": 63,
   "metadata": {
    "collapsed": true
   },
   "outputs": [],
   "source": [
    "modes = {1: \"S1\", 2:\"S2\", 3: \"S3\", 6: \"Sonata\"}\n",
    "\n",
    "def get_plot_data(data_in):\n",
    "    n_queries = data_in.keys()\n",
    "    n_queries.sort()\n",
    "    out = {}\n",
    "    for mode in modes:\n",
    "        out[mode] = []\n",
    "        \n",
    "        if mode == 1:\n",
    "            out[mode] = [62874535*x for x in n_queries]\n",
    "        else:\n",
    "            for n in n_queries:\n",
    "                tmp = max([data_in[n][x][mode] for x in data_in[n].keys()])\n",
    "                out[mode].append(tmp)\n",
    "            \n",
    "    return out\n",
    "    \n",
    "\n",
    "def draw_plots(data, modes):\n",
    "    f, (ax) = plt.subplots(1)\n",
    "    for mode in modes:\n",
    "        x = range(1, 1+len(data[mode]))\n",
    "        y = data[mode]\n",
    "        print x, y\n",
    "        plt.plot(x, y, marker = markers[mode], \n",
    "                 linestyle = linestyles[mode], \n",
    "                 label=modes[mode],\n",
    "                )\n",
    "   \n",
    "    plt.xlabel('Queries')\n",
    "    plt.ylabel('Tuples')\n",
    "    #ax.set_xlim(0, 1.01)\n",
    "    ax.grid(True)\n",
    "    pl.locator_params(nticks=5)\n",
    "    ax.locator_params(nbins=5)\n",
    "    ax.set_xlim(xmax=5.25)\n",
    "    ax.set_xlim(xmin=0.75)\n",
    "    ax.set_yscale(\"log\", nonposy='clip')\n",
    "    ax.legend(loc='upper center', bbox_to_anchor=(0.5, 1.15),\n",
    "              ncol=4, fancybox=False, shadow=False)\n",
    "    fname = \"/Users/arpit/Documents/nsdi18/writing/figures/key_result.eps\"\n",
    "    plt.tight_layout()\n",
    "    plot_name = fname\n",
    "    pl.savefig(plot_name)\n",
    "    plt.show()\n",
    "    pass"
   ]
  },
  {
   "cell_type": "code",
   "execution_count": 64,
   "metadata": {
    "collapsed": false
   },
   "outputs": [
    {
     "name": "stdout",
     "output_type": "stream",
     "text": [
      "{1: [62874535, 125749070, 188623605, 251498140, 314372675], 2: [56695698.0, 113391396.0, 121363574.0, 121935614.0, 121983551.0], 3: [1318314.0, 2553900.0, 2554033.0, 2554110.0, 2554114.0], 6: [2139.0, 2272.0, 2380.0, 2470.0, 2610.0]}\n",
      "[1, 2, 3, 4, 5] [62874535, 125749070, 188623605, 251498140, 314372675]\n",
      "[1, 2, 3, 4, 5] [56695698.0, 113391396.0, 121363574.0, 121935614.0, 121983551.0]\n",
      "[1, 2, 3, 4, 5] [1318314.0, 2553900.0, 2554033.0, 2554110.0, 2554114.0]\n",
      "[1, 2, 3, 4, 5] [2139.0, 2272.0, 2380.0, 2470.0, 2610.0]\n"
     ]
    },
    {
     "data": {
      "image/png": "[encoded data removed]",
      "text/plain": [
       "<matplotlib.figure.Figure at 0x114e1ebd0>"
      ]
     },
     "metadata": {},
     "output_type": "display_data"
    }
   ],
   "source": [
    "plot_data = get_plot_data(data)\n",
    "print plot_data\n",
    "# plot_data = {1: [62874535, 125749070, 188623605, 251498140, 314372675], \n",
    "#              2: [56695698.0, 113391396.0, 121363574.0, 121935614.0, 121983551.0], \n",
    "#              3: [56695698.0, 57267738.0, 113963436.0, 113963440.0, 114238009.0], \n",
    "#              6: [2139.0, 2272.0, 2380.0, 2470.0, 2610.0]\n",
    "#             }\n",
    "draw_plots(plot_data, modes)\n"
   ]
  },
  {
   "cell_type": "code",
   "execution_count": 33,
   "metadata": {
    "collapsed": false
   },
   "outputs": [
    {
     "name": "stdout",
     "output_type": "stream",
     "text": [
      "__init__.py              perf_eval.pyc            training_queries.py\r\n",
      "__init__.pyc             plot_results.ipynb       utils.pyc\r\n",
      "counts_2_cost_matrix.py  process_caida_data.py    \u001b[1m\u001b[36mvalidate_results\u001b[m\u001b[m/\r\n",
      "generate_cost_matrix.py  process_cost_matrix.py\r\n",
      "key_result.eps           \u001b[1m\u001b[36mquery_specific_analysis\u001b[m\u001b[m/\r\n"
     ]
    }
   ],
   "source": [
    "ls"
   ]
  },
  {
   "cell_type": "code",
   "execution_count": null,
   "metadata": {
    "collapsed": true
   },
   "outputs": [],
   "source": []
  }
 ],
 "metadata": {
  "kernelspec": {
   "display_name": "Python 2",
   "language": "python",
   "name": "python2"
  },
  "language_info": {
   "codemirror_mode": {
    "name": "ipython",
    "version": 2
   },
   "file_extension": ".py",
   "mimetype": "text/x-python",
   "name": "python",
   "nbconvert_exporter": "python",
   "pygments_lexer": "ipython2",
   "version": "2.7.13"
  }
 },
 "nbformat": 4,
 "nbformat_minor": 0
}
